{
  "nbformat": 4,
  "nbformat_minor": 0,
  "metadata": {
    "colab": {
      "name": "list_comprehension.ipynb",
      "provenance": [],
      "authorship_tag": "ABX9TyML8BtC4A3XuF0T+oV3ovKV",
      "include_colab_link": true
    },
    "kernelspec": {
      "name": "python3",
      "display_name": "Python 3"
    },
    "language_info": {
      "name": "python"
    }
  },
  "cells": [
    {
      "cell_type": "markdown",
      "metadata": {
        "id": "view-in-github",
        "colab_type": "text"
      },
      "source": [
        "<a href=\"https://colab.research.google.com/github/muhammadaarif-9/python_basic_codes/blob/main/list_comprehension.ipynb\" target=\"_parent\"><img src=\"https://colab.research.google.com/assets/colab-badge.svg\" alt=\"Open In Colab\"/></a>"
      ]
    },
    {
      "cell_type": "markdown",
      "source": [
        "#Use the Questions as below"
      ],
      "metadata": {
        "id": "rIhbvDQWUS8d"
      }
    },
    {
      "cell_type": "code",
      "source": [
        "nums = [i for i in range(1,1001)]\n",
        "string = \"Practice Problems to Drill List Comprehension in Your Head.\""
      ],
      "metadata": {
        "id": "XDsANWDSUVsR"
      },
      "execution_count": 1,
      "outputs": []
    },
    {
      "cell_type": "markdown",
      "source": [
        "# Question 1\n",
        "Find all of the numbers from 1–1000 that are divisible by 8\n"
      ],
      "metadata": {
        "id": "0DyHGF_3Ui2u"
      }
    },
    {
      "cell_type": "code",
      "source": [
        "q1_answer = [num for num in nums if num % 8 == 0]"
      ],
      "metadata": {
        "id": "Jtl6MPKJUkRt"
      },
      "execution_count": 2,
      "outputs": []
    },
    {
      "cell_type": "markdown",
      "source": [
        "# Question 2 \n",
        "Find all of the numbers from 1–1000 that have a 6 in them"
      ],
      "metadata": {
        "id": "idt_ZczRUwy_"
      }
    },
    {
      "cell_type": "code",
      "source": [
        "q2_answer = [num for num in nums if \"6\" in str(num)]"
      ],
      "metadata": {
        "id": "0ph-ifWxU07V"
      },
      "execution_count": 3,
      "outputs": []
    },
    {
      "cell_type": "markdown",
      "source": [
        "# Question 3\n",
        "\n",
        "Count the number of spaces in a string"
      ],
      "metadata": {
        "id": "GiOmrfEnVgtd"
      }
    },
    {
      "cell_type": "code",
      "source": [
        "q3_answer = len([char for char in string if char == \" \"])"
      ],
      "metadata": {
        "id": "u8vq-95AU3cs"
      },
      "execution_count": 4,
      "outputs": []
    },
    {
      "cell_type": "markdown",
      "source": [
        "# Question 4 \n",
        "\n",
        "Remove all of the vowels in a string"
      ],
      "metadata": {
        "id": "CKAxG5dBVrLQ"
      }
    },
    {
      "cell_type": "code",
      "source": [
        "q4_answer = \"\".join([char for char in string if char not in [\"a\",\"e\",\"i\",\"o\",\"u\"]])"
      ],
      "metadata": {
        "id": "yWc9DVtxVm3o"
      },
      "execution_count": 5,
      "outputs": []
    },
    {
      "cell_type": "markdown",
      "source": [
        "#Question 5\n",
        "\n",
        "Find all of the words in a string that are less than 5 letters"
      ],
      "metadata": {
        "id": "qDhfsHCHVz7l"
      }
    },
    {
      "cell_type": "code",
      "source": [
        "words = string.split(\" \")\n",
        "q5_answer = [word for word in words if len(word) < 5]"
      ],
      "metadata": {
        "id": "ec5JBgQsVxm-"
      },
      "execution_count": 6,
      "outputs": []
    },
    {
      "cell_type": "markdown",
      "source": [
        "#Question 6\n",
        "\n",
        "Use a dictionary comprehension to count the length of each word in a sentence"
      ],
      "metadata": {
        "id": "FRr58XN3V-Xm"
      }
    },
    {
      "cell_type": "code",
      "source": [
        "q6_answer = {word:len(word) for word in words}"
      ],
      "metadata": {
        "id": "3KNr6FN1V6vv"
      },
      "execution_count": 7,
      "outputs": []
    },
    {
      "cell_type": "markdown",
      "source": [
        "#Question 7 \n",
        "\n",
        "Use a nested list comprehension to find all of the numbers from 1–1000 that are divisible by any single digit besides 1 (2–9)"
      ],
      "metadata": {
        "id": "x3hdj9dIWJUl"
      }
    },
    {
      "cell_type": "code",
      "source": [
        "q7_answer = [num for num in nums if True in [True for divisor in range(2,10) if num % divisor == 0]]"
      ],
      "metadata": {
        "id": "LrsqyKOBWG9V"
      },
      "execution_count": 8,
      "outputs": []
    },
    {
      "cell_type": "markdown",
      "source": [
        "# Question 8\n",
        "\n",
        "For all the numbers 1–1000, use a nested list/dictionary comprehension to find the highest single digit any of the numbers is divisible by"
      ],
      "metadata": {
        "id": "8FdP0FtBWSWK"
      }
    },
    {
      "cell_type": "code",
      "source": [
        "q8_answer = {num:max([divisor for divisor in range(1,10) if num % divisor == 0]) for num in nums}"
      ],
      "metadata": {
        "id": "2gw1zXd9WPVv"
      },
      "execution_count": 9,
      "outputs": []
    },
    {
      "cell_type": "code",
      "source": [
        ""
      ],
      "metadata": {
        "id": "IAQPfra7WYag"
      },
      "execution_count": null,
      "outputs": []
    }
  ]
}