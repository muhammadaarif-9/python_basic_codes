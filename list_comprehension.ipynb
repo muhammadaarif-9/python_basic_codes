{
  "nbformat": 4,
  "nbformat_minor": 0,
  "metadata": {
    "colab": {
      "name": "list_comprehension.ipynb",
      "provenance": [],
      "authorship_tag": "ABX9TyN+ksaOjc4ECEUxJVm4w6hb",
      "include_colab_link": true
    },
    "kernelspec": {
      "name": "python3",
      "display_name": "Python 3"
    },
    "language_info": {
      "name": "python"
    }
  },
  "cells": [
    {
      "cell_type": "markdown",
      "metadata": {
        "id": "view-in-github",
        "colab_type": "text"
      },
      "source": [
        "<a href=\"https://colab.research.google.com/github/muhammadaarif-9/python_basic_codes/blob/main/list_comprehension.ipynb\" target=\"_parent\"><img src=\"https://colab.research.google.com/assets/colab-badge.svg\" alt=\"Open In Colab\"/></a>"
      ]
    },
    {
      "cell_type": "markdown",
      "source": [
        "#Use the Questions as below"
      ],
      "metadata": {
        "id": "rIhbvDQWUS8d"
      }
    },
    {
      "cell_type": "code",
      "source": [
        "nums = [i for i in range(1,1001)]\n",
        "string = \"Practice Problems to Drill List Comprehension in Your Head.\""
      ],
      "metadata": {
        "id": "XDsANWDSUVsR"
      },
      "execution_count": 1,
      "outputs": []
    },
    {
      "cell_type": "markdown",
      "source": [
        "# Question 1\n",
        "Find all of the numbers from 1–1000 that are divisible by 8\n"
      ],
      "metadata": {
        "id": "0DyHGF_3Ui2u"
      }
    },
    {
      "cell_type": "code",
      "source": [
        "q1_answer = [num for num in nums if num % 8 == 0]"
      ],
      "metadata": {
        "id": "Jtl6MPKJUkRt"
      },
      "execution_count": 2,
      "outputs": []
    },
    {
      "cell_type": "markdown",
      "source": [
        "# Question 2 \n",
        "Find all of the numbers from 1–1000 that have a 6 in them"
      ],
      "metadata": {
        "id": "idt_ZczRUwy_"
      }
    },
    {
      "cell_type": "code",
      "source": [
        "q2_answer = [num for num in nums if \"6\" in str(num)]"
      ],
      "metadata": {
        "id": "0ph-ifWxU07V"
      },
      "execution_count": 3,
      "outputs": []
    },
    {
      "cell_type": "code",
      "source": [
        ""
      ],
      "metadata": {
        "id": "u8vq-95AU3cs"
      },
      "execution_count": null,
      "outputs": []
    }
  ]
}